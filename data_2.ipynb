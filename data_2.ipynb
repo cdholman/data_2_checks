{
 "cells": [
  {
   "cell_type": "code",
   "execution_count": 22,
   "metadata": {},
   "outputs": [],
   "source": [
    "git_init:()\n",
    "git_status:()\n",
    "git_add: ('data_2')"
   ]
  },
  {
   "cell_type": "code",
   "execution_count": 23,
   "metadata": {},
   "outputs": [],
   "source": [
    "import pandas as pd\n",
    "import numpy as np\n"
   ]
  },
  {
   "cell_type": "code",
   "execution_count": 24,
   "metadata": {},
   "outputs": [],
   "source": [
    "df = pd.read_csv('https://raw.githubusercontent.com/WillTirone/code_lou_work/main/data2/knowledge_checks/data/Parking%20Citations%202018%20Thru%203-24-18.csv')"
   ]
  },
  {
   "cell_type": "code",
   "execution_count": 25,
   "metadata": {},
   "outputs": [
    {
     "name": "stdout",
     "output_type": "stream",
     "text": [
      "(20336, 8)\n"
     ]
    },
    {
     "data": {
      "text/html": [
       "<div>\n",
       "<style scoped>\n",
       "    .dataframe tbody tr th:only-of-type {\n",
       "        vertical-align: middle;\n",
       "    }\n",
       "\n",
       "    .dataframe tbody tr th {\n",
       "        vertical-align: top;\n",
       "    }\n",
       "\n",
       "    .dataframe thead th {\n",
       "        text-align: right;\n",
       "    }\n",
       "</style>\n",
       "<table border=\"1\" class=\"dataframe\">\n",
       "  <thead>\n",
       "    <tr style=\"text-align: right;\">\n",
       "      <th></th>\n",
       "      <th>Cite Number</th>\n",
       "      <th>Issue Date</th>\n",
       "      <th>Violat</th>\n",
       "      <th>Sublocatio</th>\n",
       "      <th>Street</th>\n",
       "      <th>Meter #</th>\n",
       "      <th>Is Wa</th>\n",
       "      <th>Due</th>\n",
       "    </tr>\n",
       "  </thead>\n",
       "  <tbody>\n",
       "    <tr>\n",
       "      <th>0</th>\n",
       "      <td>M201507360</td>\n",
       "      <td>02/16/2018</td>\n",
       "      <td>PSW</td>\n",
       "      <td>700</td>\n",
       "      <td>YORK ST</td>\n",
       "      <td>NaN</td>\n",
       "      <td>NO</td>\n",
       "      <td>0.0</td>\n",
       "    </tr>\n",
       "    <tr>\n",
       "      <th>1</th>\n",
       "      <td>M201306003</td>\n",
       "      <td>01/05/2018</td>\n",
       "      <td>HO</td>\n",
       "      <td>100S</td>\n",
       "      <td>1ST ST</td>\n",
       "      <td>NaN</td>\n",
       "      <td>NO</td>\n",
       "      <td>0.0</td>\n",
       "    </tr>\n",
       "    <tr>\n",
       "      <th>2</th>\n",
       "      <td>M202705546</td>\n",
       "      <td>01/18/2018</td>\n",
       "      <td>X</td>\n",
       "      <td>N200</td>\n",
       "      <td>1ST ST</td>\n",
       "      <td>3012</td>\n",
       "      <td>NO</td>\n",
       "      <td>0.0</td>\n",
       "    </tr>\n",
       "    <tr>\n",
       "      <th>3</th>\n",
       "      <td>M202802800</td>\n",
       "      <td>01/10/2018</td>\n",
       "      <td>NPP</td>\n",
       "      <td>500W</td>\n",
       "      <td>LIBERTY ST</td>\n",
       "      <td>NaN</td>\n",
       "      <td>NO</td>\n",
       "      <td>0.0</td>\n",
       "    </tr>\n",
       "    <tr>\n",
       "      <th>4</th>\n",
       "      <td>M200208507</td>\n",
       "      <td>02/23/2018</td>\n",
       "      <td>NP</td>\n",
       "      <td>200E</td>\n",
       "      <td>CHESTNUT ST</td>\n",
       "      <td>NaN</td>\n",
       "      <td>NO</td>\n",
       "      <td>0.0</td>\n",
       "    </tr>\n",
       "  </tbody>\n",
       "</table>\n",
       "</div>"
      ],
      "text/plain": [
       "  Cite Number  Issue Date Violat Sublocatio       Street Meter # Is Wa  Due\n",
       "0  M201507360  02/16/2018    PSW        700      YORK ST     NaN    NO  0.0\n",
       "1  M201306003  01/05/2018     HO       100S       1ST ST     NaN    NO  0.0\n",
       "2  M202705546  01/18/2018      X       N200       1ST ST    3012    NO  0.0\n",
       "3  M202802800  01/10/2018    NPP       500W   LIBERTY ST     NaN    NO  0.0\n",
       "4  M200208507  02/23/2018     NP       200E  CHESTNUT ST     NaN    NO  0.0"
      ]
     },
     "execution_count": 25,
     "metadata": {},
     "output_type": "execute_result"
    }
   ],
   "source": [
    "print(df.shape)\n",
    "df.head()"
   ]
  },
  {
   "cell_type": "code",
   "execution_count": 26,
   "metadata": {},
   "outputs": [
    {
     "data": {
      "text/plain": [
       "Index(['Cite Number', 'Issue Date', 'Violat', 'Sublocatio', 'Street',\n",
       "       'Meter #', 'Is Wa', 'Due'],\n",
       "      dtype='object')"
      ]
     },
     "execution_count": 26,
     "metadata": {},
     "output_type": "execute_result"
    }
   ],
   "source": [
    "df.columns"
   ]
  },
  {
   "cell_type": "code",
   "execution_count": 27,
   "metadata": {},
   "outputs": [
    {
     "data": {
      "text/plain": [
       "Index(['citation_number', 'issue_date', 'violation', 'sublocation', 'street',\n",
       "       'meter_number', 'is_warning', 'due'],\n",
       "      dtype='object')"
      ]
     },
     "execution_count": 27,
     "metadata": {},
     "output_type": "execute_result"
    }
   ],
   "source": [
    "fixed_columns = {\n",
    "    'Cite Number':'citation_number',\n",
    "    'Issue Date':'issue_date',\n",
    "    'Violat':'violation',\n",
    "    'Sublocatio':'sublocation',\n",
    "    'Street':'street',\n",
    "    'Meter #':'meter_number',\n",
    "    'Is Wa':'is_warning',\n",
    "    'Due':'due'\n",
    "}\n",
    "\n",
    "df.rename(columns=fixed_columns,inplace=True)\n",
    "df.columns"
   ]
  },
  {
   "cell_type": "code",
   "execution_count": 28,
   "metadata": {},
   "outputs": [
    {
     "data": {
      "text/plain": [
       "array(['YORK ST', '1ST ST', 'LIBERTY ST', 'CHESTNUT ST',\n",
       "       'MUHAMMAD ALI BLVD', 'BROOK ST', 'MAIN ST', 'FLOYD ST',\n",
       "       'BARDSTOWN RD', 'JEFFERSON ST', 'BAXTER AVE', '8TH ST', '6TH ST',\n",
       "       '4TH ST', 'MARKET ST', '7TH ST', '5TH ST', 'HIGHLAND AVE',\n",
       "       'WASHINGTON ST', 'BROADWAY', '3RD ST', 'DOUGLASS BLVD',\n",
       "       'DUNDEE RD', 'KENTUCKY ST', 'ABRAHAM FLEXNER WAY', 'LEE ST',\n",
       "       'BLOOM ST', '2ND ST', 'GRAY ST', 'ARMORY PL', 'PRESTON ST',\n",
       "       'ELLWOOD AVE', 'BRANDYWYNE DR', 'BARRET AVE', 'LUCIA AVE',\n",
       "       'HARVARD DR', 'EVERETT AVE', 'GUTHRIE ST', 'COLORADO AVE',\n",
       "       'LIBRARY PL', 'HANCOCK ST', 'GAULBERT AVE', 'CARDINAL BLVD',\n",
       "       'CEDAR ST', 'GARAGE - 6TH & MAIN', 'RODMAN ST', 'CLAY ST',\n",
       "       'RUBEL AVE', 'STORY AVE', 'CRITTENDEN DR', 'JACKSON ST',\n",
       "       'WEBSTER ST', 'HILL ST', '10TH ST', 'STANSBURY PARK',\n",
       "       'LIBRARY LOT', 'DEERWOOD AVE', 'WITHERSPOON ST', 'ARTHUR ST',\n",
       "       'BRONNER CIR', 'BRADLEY AVE', 'EDENSIDE AVE',\n",
       "       'COVENTRY COMMONS DR', 'ST ANTHONY PL', 'YALE DR', 'PATTERSON AVE',\n",
       "       'SARATOGA DR', 'GARAGE - MARKET ST', 'BRANDEIS AVE',\n",
       "       'EDGELAND AVE', 'BARINGER AVE', 'LILLY AVE', 'ALTA AVE',\n",
       "       'BEECHWOOD AVE', 'CAWTHON ST', 'LOT - CITY HALL',\n",
       "       'BONNYCASTLE AVE', 'SHERWOOD AVE', 'LOT - MUD', 'JACKSON AVE',\n",
       "       'BRYNWOOD LN', 'MELLWOOD AVE', 'EDEN AVE', 'BICKEL AVE',\n",
       "       'GARAGE - MUHAMMAD ALI CENTER', 'HAMES TRCE', 'READING RD',\n",
       "       'GARAGE - SEELBACH', 'SPRING ST', 'FORT ST', '9TH ST', 'SPEED AVE',\n",
       "       'HAROLD AVE', \"PLACE D'OR null\", 'FLEMING AVE', 'FISK CT',\n",
       "       'LIBERTY AVE', 'LAUDERDALE RD', 'JEFFERSON AVE', 'OUTER LOOP',\n",
       "       'TAYLORSVILLE RD', 'CRANFILL WAY', 'HUNT CLUB LN',\n",
       "       'I 71 NORTH null', 'MICHAEL RAY DR', 'DRESDEN AVE', 'PARK LAKE DR',\n",
       "       'WARNOCK ST', 'LOCUST WAY', '40TH ST', '41ST ST', 'NORRIS PL',\n",
       "       'SHADY LN', 'CHEROKEE RD', 'GRANGER RD', 'CANE RUN RD',\n",
       "       'CLEVELAND AVE', 'WESTPORT RD', 'LANDIS RIDGE DR',\n",
       "       'PORT CAPTAIN WAY', 'MADISON AVE', 'THOMPSON AVE', 'DELMONT AVE',\n",
       "       'KINGSTON AVE', 'HITE AVE', 'BELLE ST', 'I 264 EAST null',\n",
       "       'RUTHERFORD AVE', '7TH RD', 'GARRISON RD', 'LAKESIDE DR',\n",
       "       'LIBERTY CT', 'KELLERMAN RD', 'RIVER PARK DR', 'LA PLAZA DR',\n",
       "       'POPE ST', 'CONGRESS ALY', 'KEATS AVE', 'MOUNT HOLLY RD',\n",
       "       'DEEPWOOD DR', 'ST JAMES CT', 'CAMPBELL ST', 'OAK ST',\n",
       "       'ALGONQUIN PKY', 'CHARLES ST', '11TH ST', 'SCHILLER AVE',\n",
       "       'I 64 EAST null', '38TH ST', 'FORDSON WAY', 'TOWNEPARK WAY',\n",
       "       'MAPLE BROOK DR', 'ACCOMACK DR', 'FERNHILL DR', 'CEDAR CT',\n",
       "       'PARAMOUNT DR', 'I 264 WEST null', 'LEESBURG PL',\n",
       "       'PLACE VERT null', 'PARK FIELD RD', 'SHAWNEE TER',\n",
       "       'POWDER HORN DR', 'MIAMI AVE', 'PLACE ARGENTE null', 'QUEST DR',\n",
       "       'LOT - WHARF', 'DUKER AVE', 'MAGAZINE ST', 'WAINWRIGHT AVE',\n",
       "       'LARKWOOD AVE', 'KIPLING WAY', 'ARLINGTON AVE', 'WHITNEY AVE',\n",
       "       'DEER PARK AVE', 'CARLTON TER', 'CHICHESTER AVE', 'MILTON ST',\n",
       "       'BRECKINRIDGE ST', 'LOTUS AVE', 'CHEROKEE PKY', 'INDIAN LAKE DR',\n",
       "       'ROGERS ST', 'RIVER RD', 'SPRING DR', 'EDWARD ST',\n",
       "       'MOUNT CLAIRE AVE', 'WINTER AVE', 'OVERLOOK TER', 'ROSEWOOD AVE',\n",
       "       'PRINCETON DR', 'RUFER AVE', 'QUADRANT AVE', 'GLENMARY AVE',\n",
       "       'LYNN ST', 'SHELBY ST', 'ATWOOD ST', 'SALE AVE', 'DENMARK ST',\n",
       "       'FALLON WAY', 'LOCUST LN', 'HIKES AVE', 'PALATKA RD', 'PIERCE WAY',\n",
       "       'ERVAY AVE', 'HULL ST', 'COVENTRY CT', 'SEA WAVE CT',\n",
       "       'DAVERMAN DR', 'CONSTANCE DR', 'BON AIR AVE', 'DANZIG PLACE',\n",
       "       'ALFRESCO PL', 'SOUTH ST', '13TH ST', 'CANNONWOOD DR',\n",
       "       'DEARCY AVE', 'SOUTHSIDE CT', 'NATIONAL TPKE', 'FRANKFORT AVE',\n",
       "       'ORMSBY AVE', 'JACOB ST', 'RENWOOD BLVD', 'HURSTBOURNE PKY',\n",
       "       '12TH ST', 'PRESTON HWY', '23RD ST', 'DUMESNIL ST', 'ADAMS RUN RD',\n",
       "       'MILES AVE', '30TH ST', 'ST CATHERINE ST', 'VIRGINIA AVE',\n",
       "       'DEARBORN AVE', 'NEWPORT RD', 'ARCADE AVE', 'I 265 SOUTH null',\n",
       "       'PLACE BLANC null', 'I 265 NORTH null', 'FISCHER PARK DR',\n",
       "       'ANNELLA WAY', 'LENTZ AVE', 'MOUNT HOLLY AVE', 'EARL AVE',\n",
       "       'GRINSTEAD DR', 'GARAGE - BROWN HOTEL', 'GARAGE - CLAY COMMONS',\n",
       "       '3RD ALY', 'GARAGE - 1ST & MAIN', 'MIDLAND AVE', 'TYLER PKY',\n",
       "       'LAMPTON ST', '28TH ST', 'FERNWOOD AVE', 'MURRAY AVE',\n",
       "       'BONNY LEA CT', 'CABEL ST', 'CENTRAL AVE', 'HILLIARD AVE',\n",
       "       'GRADE LN', 'VILLAGE DR', 'FLEMING RD', 'ROANOKE AVE',\n",
       "       'I 65 NORTH null', 'BLOSSOM LN', 'CECIL AVE', '39TH ST',\n",
       "       'DEARING CT', 'HEYWOOD AVE', 'INDIAN TRL', 'BRASHEAR DR',\n",
       "       'VINE ST', 'PULPIT DR', 'HALSTEAD AVE', 'HARVEST DR', 'BARBEE AVE',\n",
       "       'POWELL AVE', 'BANK ST', 'SLEVIN ST', 'BRECKENRIDGE LN',\n",
       "       'DORTON DR', 'SHAWNEE DR', 'MILES LN', 'NANSEMOND CIR',\n",
       "       'HARLAN AVE', 'SOUTHERN PKY', 'GRAND AVE', 'PLACE BLEU null',\n",
       "       'DOROTHY AVE', 'ADAMS RUN CT', 'ST JOSEPH ST',\n",
       "       'LOT - HAPPY BIRTHDAY', 'I 71 SOUTH null',\n",
       "       'GARAGE - LOUISVILLE GARDENS', 'BURNETT AVE', 'CALDWELL ST',\n",
       "       'GARAGE - JEFFERSON CENTRE', 'RUGGLES PL', 'SWAN ST',\n",
       "       'BROOKLEY DR', 'BUCHANAN ST', '24TH ST', 'STOLL AVE', 'UPS DR',\n",
       "       'BROWNSBORO RD', 'STEPHAN DR', 'BAYLY AVE', 'DONERAIL WAY',\n",
       "       'BARNEY AVE', 'STOCKTON CT', 'PARSONS PL', 'VANDRE AVE',\n",
       "       'ORCHARD HILL DR', 'NEW CUT RD', 'SENECA PARK RD', 'FOREMAN LN',\n",
       "       'HOMESTEAD DR', 'CONCORD DR', 'BOLLING AVE', 'DIXIE HWY',\n",
       "       'ANNA LN', 'WELMAN DR', 'DOVER RD', 'AGENA DR', 'WAREHAM RD',\n",
       "       'CHAUNCEY AVE', 'HARRISON AVE', 'SHELBYVILLE RD', 'BRANDYWYNE CT',\n",
       "       'HUNTOON AVE', 'BELMAR DR', 'MARSHALL ST', 'Boulevard Napoleon',\n",
       "       'WALTERDALE TER', 'DUNDEE WAY', 'HEPBURN AVE', 'DEBARR ST',\n",
       "       'CHRISTY AVE', 'BUSH FARM RD', 'CURRY BRANCH RD', 'SOUTHPOINT DR',\n",
       "       'EASTERN PKY', 'TERRACE CREEK DR', 'Armstrong Dr', 'EDDINGTON WAY',\n",
       "       'UPPER HUNTERS TRCE', 'ULRICH AVE', 'LYDIA ST', 'BUCKS LN',\n",
       "       'MONTICELLO AVE', 'HILLCROSS CT', 'OLD HENRY RD',\n",
       "       'CLARK MEMORIAL BRG', '42ND ST', '26TH ST', 'FERN VALLEY RD',\n",
       "       'TAYLOR BLVD', 'FORDHAVEN RD', 'COPPER RIDGE DR', 'ETLEY AVE',\n",
       "       '16TH ST', 'REUTLINGER AVE', 'TECUMSEH AVE', 'NEAGLI CT',\n",
       "       'JOYCE DR', 'PLACE JANUE null', '17TH ST', 'VALLEY VISTA RD',\n",
       "       'OLDSHIRE RD', 'HERSFIELD RD', 'ARROYO TRL', 'I 65 RAMP null',\n",
       "       'CLARA AVE', 'SMYRNA RD', 'BELLAIRE AVE', 'WADSWORTH AVE',\n",
       "       'HERMAN ST', 'SHIPP PL', 'GARAGE - 5TH ST', 'SHEFFIELD BLVD',\n",
       "       'SULLIVAN WAY', 'IOWA AVE', 'RICHMOND DR', 'JEFFERSON BLVD',\n",
       "       'KENHURST DR', 'WILLOWVIEW BLVD', 'CHARLESWOOD PL', 'GLENDORA AVE',\n",
       "       'HARTMAN AVE', 'GARAGE - ARENA', 'HILL PEAK CT', 'VANETO DR',\n",
       "       'HURSTBOURNE LN', 'COURT PL', 'ROCK CREEK DR', 'FOUNDRY DR',\n",
       "       'GARLAND AVE', 'OAKWOOD AVE', 'RIDGEDALE RD', 'ROWAN ST',\n",
       "       'DUNBARTON WYNDE null', 'FERNVIEW RD', 'BELLWOOD AVE', '36TH ST',\n",
       "       'SEBREE LN', 'VILLAGE WEST DR', 'DEL PARK TER', 'GOSS AVE',\n",
       "       'GARAGE - GLASSWORKS', 'GARAGE - RIVERFRONT', 'NEWBURG RD',\n",
       "       'COVE DR', 'COLLEGE ST', 'TREVILIAN WAY', 'WASHINGTON BLVD',\n",
       "       'CAMP ST', 'BINGHAM DR', 'COVA DR', 'SHINGO AVE', 'KENTON ST',\n",
       "       'MANSLICK RD', 'LEXINGTON AVE', 'GRASMERE DR', 'DELOR AVE',\n",
       "       'POINDEXTER DR', 'FRANELM RD', 'WINSTON AVE', 'BLAIRWOOD RD',\n",
       "       'HIAWATHA AVE', 'PEALE AVE', 'WOODGATE LN', 'ROSELANE ST',\n",
       "       'LIBRARY LN', 'MARY ST', 'DE MEL AVE', 'STANDIFORD AVE',\n",
       "       'LANGDON DR', 'PAGES LN', 'ROTHBURY CT', 'MORTON AVE', 'BAKERS LN',\n",
       "       'SWALLOW RD', 'GLENDALE RD', 'BIRCHWOOD AVE', 'MARIAN DR',\n",
       "       'WELLINGTON AVE', 'LONGFIELD AVE', 'WEAVER CT', 'HILLCREST AVE',\n",
       "       'SUTHERLAND DR', 'LEXINGTON RD', 'GREENWICH RD', 'GLENNA WAY',\n",
       "       'BUNGALOW DR', 'BRINKEY WAY', 'HIKES LN', 'PAYNE ST',\n",
       "       'WATTERSON TRL', 'PLACE NOIR null', 'WOODLAND AVE',\n",
       "       'PLACE ROUGE null', 'CHARLBURY CT', 'MARY DELL LN', 'CAWOOD DR',\n",
       "       'CRAIG AVE', 'RIEDLING DR', 'BEECH AVE', 'WALTER AVE'],\n",
       "      dtype=object)"
      ]
     },
     "execution_count": 28,
     "metadata": {},
     "output_type": "execute_result"
    }
   ],
   "source": [
    "df.street.unique()"
   ]
  },
  {
   "cell_type": "code",
   "execution_count": 29,
   "metadata": {},
   "outputs": [
    {
     "data": {
      "text/html": [
       "<div>\n",
       "<style scoped>\n",
       "    .dataframe tbody tr th:only-of-type {\n",
       "        vertical-align: middle;\n",
       "    }\n",
       "\n",
       "    .dataframe tbody tr th {\n",
       "        vertical-align: top;\n",
       "    }\n",
       "\n",
       "    .dataframe thead th {\n",
       "        text-align: right;\n",
       "    }\n",
       "</style>\n",
       "<table border=\"1\" class=\"dataframe\">\n",
       "  <thead>\n",
       "    <tr style=\"text-align: right;\">\n",
       "      <th></th>\n",
       "      <th>citation_number</th>\n",
       "      <th>issue_date</th>\n",
       "      <th>violation</th>\n",
       "      <th>sublocation</th>\n",
       "      <th>street</th>\n",
       "      <th>meter_number</th>\n",
       "      <th>is_warning</th>\n",
       "      <th>due</th>\n",
       "    </tr>\n",
       "  </thead>\n",
       "  <tbody>\n",
       "    <tr>\n",
       "      <th>1559</th>\n",
       "      <td>94783496</td>\n",
       "      <td>01/19/2018</td>\n",
       "      <td>EX</td>\n",
       "      <td>1200</td>\n",
       "      <td>PLACE D'OR null</td>\n",
       "      <td>NaN</td>\n",
       "      <td>NO</td>\n",
       "      <td>50.0</td>\n",
       "    </tr>\n",
       "    <tr>\n",
       "      <th>1689</th>\n",
       "      <td>94942481</td>\n",
       "      <td>01/15/2018</td>\n",
       "      <td>U</td>\n",
       "      <td>I-265</td>\n",
       "      <td>I 71 NORTH null</td>\n",
       "      <td>NaN</td>\n",
       "      <td>NO</td>\n",
       "      <td>50.0</td>\n",
       "    </tr>\n",
       "    <tr>\n",
       "      <th>1750</th>\n",
       "      <td>94941571</td>\n",
       "      <td>02/20/2018</td>\n",
       "      <td>NP</td>\n",
       "      <td>12MM</td>\n",
       "      <td>I 264 EAST null</td>\n",
       "      <td>NaN</td>\n",
       "      <td>NO</td>\n",
       "      <td>50.0</td>\n",
       "    </tr>\n",
       "    <tr>\n",
       "      <th>1978</th>\n",
       "      <td>94725046</td>\n",
       "      <td>01/11/2018</td>\n",
       "      <td>NPJ</td>\n",
       "      <td>23.2 MM</td>\n",
       "      <td>I 64 EAST null</td>\n",
       "      <td>NaN</td>\n",
       "      <td>NO</td>\n",
       "      <td>50.0</td>\n",
       "    </tr>\n",
       "    <tr>\n",
       "      <th>1990</th>\n",
       "      <td>94944872</td>\n",
       "      <td>02/06/2018</td>\n",
       "      <td>EX</td>\n",
       "      <td>9MM</td>\n",
       "      <td>I 264 WEST null</td>\n",
       "      <td>NaN</td>\n",
       "      <td>NO</td>\n",
       "      <td>50.0</td>\n",
       "    </tr>\n",
       "  </tbody>\n",
       "</table>\n",
       "</div>"
      ],
      "text/plain": [
       "     citation_number  issue_date violation sublocation           street  \\\n",
       "1559        94783496  01/19/2018        EX        1200  PLACE D'OR null   \n",
       "1689        94942481  01/15/2018         U       I-265  I 71 NORTH null   \n",
       "1750        94941571  02/20/2018        NP        12MM  I 264 EAST null   \n",
       "1978        94725046  01/11/2018       NPJ     23.2 MM   I 64 EAST null   \n",
       "1990        94944872  02/06/2018        EX         9MM  I 264 WEST null   \n",
       "\n",
       "     meter_number is_warning   due  \n",
       "1559          NaN         NO  50.0  \n",
       "1689          NaN         NO  50.0  \n",
       "1750          NaN         NO  50.0  \n",
       "1978          NaN         NO  50.0  \n",
       "1990          NaN         NO  50.0  "
      ]
     },
     "execution_count": 29,
     "metadata": {},
     "output_type": "execute_result"
    }
   ],
   "source": [
    "df[df.street.str.contains('null')].head()"
   ]
  },
  {
   "cell_type": "code",
   "execution_count": 30,
   "metadata": {},
   "outputs": [],
   "source": [
    "df.street.replace({' null':''}, regex=True,inplace=True)"
   ]
  },
  {
   "cell_type": "code",
   "execution_count": 31,
   "metadata": {},
   "outputs": [],
   "source": [
    "#df[df.street.str.contains('null')].head()"
   ]
  }
 ],
 "metadata": {
  "kernelspec": {
   "display_name": "Python 3.9.12 ('base')",
   "language": "python",
   "name": "python3"
  },
  "language_info": {
   "codemirror_mode": {
    "name": "ipython",
    "version": 3
   },
   "file_extension": ".py",
   "mimetype": "text/x-python",
   "name": "python",
   "nbconvert_exporter": "python",
   "pygments_lexer": "ipython3",
   "version": "3.9.12"
  },
  "orig_nbformat": 4,
  "vscode": {
   "interpreter": {
    "hash": "c8869f3ab895debcefb79266e9c904e02140001b328bfa99a5433b85d102766c"
   }
  }
 },
 "nbformat": 4,
 "nbformat_minor": 2
}
